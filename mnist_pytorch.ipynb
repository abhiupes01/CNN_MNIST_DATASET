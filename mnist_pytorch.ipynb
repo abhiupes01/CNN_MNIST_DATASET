{
 "cells": [
  {
   "cell_type": "code",
   "execution_count": 1,
   "metadata": {},
   "outputs": [],
   "source": [
    "# importing the libraries\n",
    "import numpy as np\n",
    "import pandas as pd\n",
    "import matplotlib.pyplot as plt\n",
    "%matplotlib inline\n",
    "import torch\n",
    "import torchvision\n",
    "from torch.utils.data import DataLoader, Dataset\n",
    "from torchvision import transforms\n",
    "import torch.nn as nn\n",
    "from torch.autograd import Variable\n",
    "import torch.nn.functional as func\n",
    "import torch.optim as optim"
   ]
  },
  {
   "cell_type": "code",
   "execution_count": 2,
   "metadata": {},
   "outputs": [
    {
     "name": "stdout",
     "output_type": "stream",
     "text": [
      "\n",
      "Length of the dataset is :60000\n",
      "\n",
      "Shape of the input is : torch.Size([1, 28, 28]) and type is : <class 'torch.Tensor'> \n",
      "\n",
      "Shape of target is : 1 and type is : <class 'numpy.int64'>\n",
      "-----------------------------------------\n",
      "\n",
      "Length of the dataset is :10000\n",
      "\n",
      "Shape of the input is : torch.Size([1, 28, 28]) and type is : <class 'torch.Tensor'> \n",
      "\n",
      "Shape of target is : 1 and type is : <class 'numpy.int64'>\n"
     ]
    }
   ],
   "source": [
    "# prepare the dataset to load \n",
    "class Mnist_dataset(Dataset):\n",
    "    \n",
    "    def __init__(self,path,transform=None):\n",
    "        self.data = pd.read_csv(path)    # load the csv file\n",
    "        self.transform = transform     \n",
    "        \n",
    "        \n",
    "        \n",
    "    def __len__(self):\n",
    "        '''\n",
    "        Overwriting the __len__ function in Dataset class\n",
    "        Returns the length of the dataset\n",
    "        '''\n",
    "        return len(self.data)\n",
    "    \n",
    "    def __getitem__(self,index):\n",
    "        '''\n",
    "        Overwrite the __getitem__ func in Dataset class\n",
    "        load the image data as np.array as (height X width X channel)\n",
    "        convert dtype into np.uint8 (unassigned integer 0 to 255)\n",
    "        return the image data as height*width*channel(28,28,1) shape\n",
    "        apply the required transformation by applying the suitable function such as ToTensor() and Normalize()\n",
    "        '''\n",
    "        image = self.data.iloc[index,1:].values.astype(np.uint8).reshape(28,28,1) # define the shape of the data to be used further\n",
    "        label = self.data.iloc[index,0]\n",
    "        \n",
    "        if self.transform is not None:\n",
    "            image = self.transform(image)\n",
    "       \n",
    "        return image, label\n",
    "    \n",
    "# define the path where the data is located\n",
    "train_path = r'C:\\Users\\Syahrir Ridha\\pytorch\\mnist_csv\\mnist_train.csv'\n",
    "test_path = r'C:\\Users\\Syahrir Ridha\\pytorch\\mnist_csv\\mnist_test.csv'\n",
    "\n",
    "# define the transformation \n",
    "# normalize the values in the data with global mean = 0.1307 and standard deviation = 0.3081\n",
    "transform = transforms.Compose([\n",
    "    transforms.ToTensor(),\n",
    "    transforms.Normalize(\n",
    "        (0.1307,),(0.3081,))\n",
    "])\n",
    "\n",
    "# define the train and test datasets\n",
    "train_data = Mnist_dataset(train_path,transform=transform)\n",
    "test_data = Mnist_dataset(test_path,transform=transform)\n",
    "\n",
    "# check the length and shape of the data in the define dataset:\n",
    "def check_data(data):\n",
    "    # check the lenth of the dataset\n",
    "    print('\\nLength of the dataset is :{}\\n'.format(data.__len__()))\n",
    "    \n",
    "    # check the shape and type of any random indexed data, in this case the index is 0\n",
    "    img, label = data.__getitem__(0)\n",
    "    print('Shape of the input is : {} and type is : {} \\n'.format(img.shape,type(img)))\n",
    "    print('Shape of target is : {} and type is : {}'.format(label.size,type(label)))\n",
    "\n",
    "#train data check\n",
    "check_data(train_data)\n",
    "\n",
    "print('-----------------------------------------')\n",
    "# test data check\n",
    "check_data(test_data)"
   ]
  },
  {
   "cell_type": "code",
   "execution_count": 3,
   "metadata": {},
   "outputs": [],
   "source": [
    "# define the batch_size, number of epochs, number of iterations, learning rate, momentum\n",
    "batch_size = 64\n",
    "n_iters = 1000\n",
    "n_epochs = n_iters/(train_data.__len__()/batch_size)\n",
    "learning_rate = 0.02\n",
    "momentum = 0.3"
   ]
  },
  {
   "cell_type": "code",
   "execution_count": 4,
   "metadata": {},
   "outputs": [],
   "source": [
    "# load the defined train and test data into data_loader\n",
    "train_loader = DataLoader(train_data,batch_size=batch_size,shuffle=True)\n",
    "test_loader = DataLoader(test_data,batch_size=100,shuffle=True)"
   ]
  },
  {
   "cell_type": "code",
   "execution_count": 5,
   "metadata": {},
   "outputs": [
    {
     "data": {
      "text/plain": [
       "torch.Size([64, 1, 28, 28])"
      ]
     },
     "execution_count": 5,
     "metadata": {},
     "output_type": "execute_result"
    }
   ],
   "source": [
    "# iterate through the data loader \n",
    "sample = iter(train_loader)\n",
    "img,label = sample.next()\n",
    "img.shape"
   ]
  },
  {
   "cell_type": "code",
   "execution_count": 6,
   "metadata": {},
   "outputs": [
    {
     "data": {
      "image/png": "[encoded data removed]",
      "text/plain": [
       "<Figure size 432x288 with 6 Axes>"
      ]
     },
     "metadata": {
      "needs_background": "light"
     },
     "output_type": "display_data"
    }
   ],
   "source": [
    "# plot some examples with there pixel and values and labels\n",
    "fig = plt.figure()\n",
    "for i in range(6):\n",
    "    plt.subplot(2,3,i+1)\n",
    "    plt.tight_layout()\n",
    "    plt.imshow(img[i][0])\n",
    "    plt.title('True Label : {}'.format(label[i]))\n",
    "    plt.axis('off')"
   ]
  },
  {
   "cell_type": "code",
   "execution_count": 7,
   "metadata": {},
   "outputs": [],
   "source": [
    "# Build the Convolution Neural Network\n",
    "class CNN_MNIST(nn.Module):\n",
    "    def __init__(self):\n",
    "        super(CNN_MNIST,self).__init__()\n",
    "        \n",
    "        # convolution layer 1\n",
    "        self.cnn1 = nn.Conv2d(in_channels=1, out_channels= 32, kernel_size=5,\n",
    "                              stride=1,padding=2)\n",
    "        \n",
    "        # ReLU activation \n",
    "        self.relu1 = nn.ReLU()\n",
    "        \n",
    "        # maxpool 1\n",
    "        self.maxpool1 = nn.MaxPool2d(kernel_size=2,stride=2)\n",
    "        \n",
    "        # convolution 2\n",
    "        self.cnn2 = nn.Conv2d(in_channels=32, out_channels=64, kernel_size=5,\n",
    "                              stride=1,padding=2)\n",
    "        \n",
    "        # ReLU activation \n",
    "        self.relu2 = nn.ReLU()\n",
    "        \n",
    "        # maxpool 2\n",
    "        self.maxpool2 = nn.MaxPool2d(kernel_size=2,stride=2)\n",
    "        \n",
    "        # fully connected 1\n",
    "        self.fc1 = nn.Linear(7*7*64,1000)\n",
    "        # fully connected 2\n",
    "        self.fc2 = nn.Linear(1000,10)\n",
    "        \n",
    "    def forward(self,x):\n",
    "        \n",
    "        # convolution 1\n",
    "        out = self.cnn1(x)\n",
    "    \n",
    "        # activation function\n",
    "        out = self.relu1(out)\n",
    "        # maxpool 1\n",
    "        out = self.maxpool1(out)\n",
    "\n",
    "        \n",
    "        # convolution 2\n",
    "        out = self.cnn2(out)\n",
    "\n",
    "        # activation function\n",
    "        out = self.relu2(out)\n",
    "        # maxpool 2\n",
    "        out = self.maxpool2(out)\n",
    "  \n",
    "        \n",
    "        # flatten the output\n",
    "        out = out.view(out.size(0),-1)\n",
    "\n",
    "        \n",
    "        # fully connected layers\n",
    "        out = self.fc1(out)\n",
    "        out = self.fc2(out)\n",
    "\n",
    "\n",
    "        return out"
   ]
  },
  {
   "cell_type": "code",
   "execution_count": 8,
   "metadata": {},
   "outputs": [],
   "source": [
    "# define model and other parameters\n",
    "cnn_model = CNN_MNIST()\n",
    "\n",
    "# cross entropy loss\n",
    "error = nn.CrossEntropyLoss()\n",
    "\n",
    "# define the optimizer\n",
    "optimizer = optim.SGD(cnn_model.parameters(),lr=learning_rate,momentum=momentum)"
   ]
  },
  {
   "cell_type": "code",
   "execution_count": 9,
   "metadata": {},
   "outputs": [
    {
     "name": "stdout",
     "output_type": "stream",
     "text": [
      "Iteration :500    Loss :0.06665525585412979    Accuracy :96\n"
     ]
    }
   ],
   "source": [
    "# model trainning\n",
    "count = 0\n",
    "loss_list = []\n",
    "iteration_list = []\n",
    "accuracy_list = []\n",
    "\n",
    "for epoch in range(int(n_epochs)):\n",
    "    for i, (image,labels) in enumerate(train_loader):\n",
    "        \n",
    "        train = Variable(image)\n",
    "        labels = Variable(labels)\n",
    "\n",
    "        \n",
    "        # clear gradient\n",
    "        optimizer.zero_grad()\n",
    "        \n",
    "        # forward propagation\n",
    "        output = cnn_model(train)\n",
    "        \n",
    "        # calculate softmax and cross entropy loss\n",
    "        loss = error(output,labels)\n",
    "        \n",
    "        # calculate gradients\n",
    "        loss.backward()\n",
    "        \n",
    "        # update the optimizer\n",
    "        optimizer.step()\n",
    "        \n",
    "        count += 1\n",
    "        \n",
    "        if count % 50 ==0:\n",
    "            # calculate the accuracy\n",
    "            correct = 0\n",
    "            total = 0\n",
    "            \n",
    "            # iterate through the test data\n",
    "            for image, labels in test_loader:\n",
    "                \n",
    "                test = Variable(image)\n",
    "                \n",
    "                # forward propagation\n",
    "                output = cnn_model(test)\n",
    "                \n",
    "                # get prediction\n",
    "                predict = torch.max(output.data,1)[1]\n",
    "                \n",
    "                # total number of labels\n",
    "                total += len(labels)\n",
    "                \n",
    "                # correct prediction\n",
    "                correct += (predict==labels).sum()\n",
    "                \n",
    "            # accuracy\n",
    "            accuracy = 100*correct/float(total)\n",
    "            \n",
    "            # store loss, number of iteration, and accuracy\n",
    "            loss_list.append(loss.data)\n",
    "            iteration_list.append(count)\n",
    "            accuracy_list.append(accuracy)\n",
    "            # save the model and the optimizer in case to use it further\n",
    "            torch.save(cnn_model.state_dict(),r'C:\\Users\\Syahrir Ridha\\pytorch\\model.pth')\n",
    "            torch.save(optimizer.state_dict(),r'C:\\Users\\Syahrir Ridha\\pytorch\\optimizer.pth')\n",
    "            \n",
    "            # print loss and accurcay as the algorithm progresses\n",
    "            if count % 500 ==0:\n",
    "                print('Iteration :{}    Loss :{}    Accuracy :{}'.format(count,loss.item(),accuracy))"
   ]
  },
  {
   "cell_type": "code",
   "execution_count": 10,
   "metadata": {},
   "outputs": [],
   "source": [
    "# With less than 1000 iterations we were able to get accurcay of 96%\n",
    "# now we check the data prediction capacity by plotting the predicted and given label\n",
    "# over few testing examples"
   ]
  },
  {
   "cell_type": "code",
   "execution_count": 44,
   "metadata": {},
   "outputs": [
    {
     "data": {
      "image/png": "[encoded data removed]",
      "text/plain": [
       "<Figure size 432x288 with 4 Axes>"
      ]
     },
     "metadata": {
      "needs_background": "light"
     },
     "output_type": "display_data"
    }
   ],
   "source": [
    "def plot(data):\n",
    "    _,(img,label) = next(enumerate(data))\n",
    "    with torch.no_grad():\n",
    "        output = cnn_model(img)\n",
    "    for i in range(4):\n",
    "        plt.subplot(2,2,i+1)\n",
    "        plt.tight_layout()\n",
    "        pred = output.data.max(1,keepdim=True)[1][i].item()\n",
    "        plt.imshow(img[i][0],interpolation='none')\n",
    "        plt.axis('off')\n",
    "        plt.title('Predicted :{}, True Label :{}'.format(pred,label[i]))\n",
    "        \n",
    "plot(test_loader)"
   ]
  },
  {
   "cell_type": "code",
   "execution_count": 49,
   "metadata": {},
   "outputs": [
    {
     "data": {
      "image/png": "[encoded data removed]",
      "text/plain": [
       "<Figure size 432x288 with 1 Axes>"
      ]
     },
     "metadata": {
      "needs_background": "light"
     },
     "output_type": "display_data"
    }
   ],
   "source": [
    "# plot the loss and accuracy\n",
    "# loss function\n",
    "plt.plot(iteration_list,loss_list)\n",
    "plt.xlabel('Number of Iteration')\n",
    "plt.ylabel('Loss Function')\n",
    "plt.title('Loss Function')\n",
    "plt.ylim(0,0.5);"
   ]
  },
  {
   "cell_type": "code",
   "execution_count": 47,
   "metadata": {},
   "outputs": [
    {
     "data": {
      "image/png": "[encoded data removed]",
      "text/plain": [
       "<Figure size 432x288 with 1 Axes>"
      ]
     },
     "metadata": {
      "needs_background": "light"
     },
     "output_type": "display_data"
    }
   ],
   "source": [
    "# accuracy function\n",
    "plt.plot(iteration_list,accuracy_list)\n",
    "plt.xlabel('Number of Iteration')\n",
    "plt.ylabel('Accuracy')\n",
    "plt.title('Accuracy');"
   ]
  },
  {
   "cell_type": "code",
   "execution_count": null,
   "metadata": {},
   "outputs": [],
   "source": []
  }
 ],
 "metadata": {
  "kernelspec": {
   "display_name": "Python 3",
   "language": "python",
   "name": "python3"
  },
  "language_info": {
   "codemirror_mode": {
    "name": "ipython",
    "version": 3
   },
   "file_extension": ".py",
   "mimetype": "text/x-python",
   "name": "python",
   "nbconvert_exporter": "python",
   "pygments_lexer": "ipython3",
   "version": "3.7.3"
  }
 },
 "nbformat": 4,
 "nbformat_minor": 4
}
